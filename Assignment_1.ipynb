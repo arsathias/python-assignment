{
 "cells": [
  {
   "cell_type": "code",
   "execution_count": 13,
   "id": "b00789b5",
   "metadata": {},
   "outputs": [
    {
     "name": "stdout",
     "output_type": "stream",
     "text": [
      "+,-,*,/\n",
      "6,-87.8\n",
      "hello\n"
     ]
    }
   ],
   "source": [
    "# 1. In the below elements which of them are values or an expression? eg:- values can be integer or string and expressions will be mathematical operators.\n",
    "\n",
    "mathematical_operator = (\"+,-,*,/\")\n",
    "print(mathematical_operator)\n",
    "integer = ('6,-87.8')\n",
    "print(integer)\n",
    "string='hello'\n",
    "print(string)\n"
   ]
  },
  {
   "cell_type": "code",
   "execution_count": 17,
   "id": "36f824c1",
   "metadata": {},
   "outputs": [
    {
     "name": "stdout",
     "output_type": "stream",
     "text": [
      "Variable store information in a program,it is like boc are container\n",
      "String is a type of value stored in a variable using single qoutes or double quotes\n"
     ]
    }
   ],
   "source": [
    "# 2. What is the difference between string and variable?\n",
    "variable = 'Variable store information in a program,it is like boc are container'\n",
    "print(variable)\n",
    "string = 'String is a type of value stored in a variable using single qoutes or double quotes'\n",
    "print(string)"
   ]
  },
  {
   "cell_type": "code",
   "execution_count": 27,
   "id": "2c907de9",
   "metadata": {},
   "outputs": [
    {
     "name": "stdout",
     "output_type": "stream",
     "text": [
      "{'integer': 2568, 'Float': 25.68, 'boolean': 'true,false', 'list': '[1,2]'}\n"
     ]
    }
   ],
   "source": [
    "# 3.Describe three different data types.\n",
    "data_types = {'integer':2568,'Float':25.68,'boolean':'true,false','list':'[1,2]'}\n",
    "print(data_types)\n",
    "#integrt is a whole number\n",
    "#float is a Decimal number\n",
    "#boolean means truth value represent yes/no\n",
    "#collection of data is a list"
   ]
  },
  {
   "cell_type": "code",
   "execution_count": 33,
   "id": "85507508",
   "metadata": {},
   "outputs": [
    {
     "data": {
      "text/plain": [
       "23"
      ]
     },
     "execution_count": 33,
     "metadata": {},
     "output_type": "execute_result"
    }
   ],
   "source": [
    "# 6. After running the following code, what does the variable bacon contain?\n",
    "bacon = 22\n",
    "bacon + 1\n",
    "# after running this code bacon will be 23"
   ]
  },
  {
   "cell_type": "code",
   "execution_count": null,
   "id": "87bb472b",
   "metadata": {},
   "outputs": [],
   "source": [
    "# 4. What is an expression made up of? What do all expressions do?\n",
    "# expression is a combination of operator and values,then it can be evaluvated into a single value"
   ]
  },
  {
   "cell_type": "code",
   "execution_count": null,
   "id": "2102a3c0",
   "metadata": {},
   "outputs": [],
   "source": [
    "#5. This assignment statements, like spam = 10. What is the difference between an expression and a statement?\n",
    "# EXpression evaluavtes into a single value but statement does not"
   ]
  },
  {
   "cell_type": "code",
   "execution_count": 34,
   "id": "ed30dc62",
   "metadata": {
    "scrolled": true
   },
   "outputs": [
    {
     "name": "stdout",
     "output_type": "stream",
     "text": [
      "spamspamspam\n",
      "spamspamspam\n"
     ]
    }
   ],
   "source": [
    "#7. What should the values of the following two terms be?\n",
    "a='spam' + 'spamspam'\n",
    "b='spam' * 3\n",
    "print(a)\n",
    "print(b)\n",
    "# both the values are same"
   ]
  },
  {
   "cell_type": "code",
   "execution_count": 35,
   "id": "9d7ab961",
   "metadata": {},
   "outputs": [
    {
     "data": {
      "text/plain": [
       "\"the variable name can't be assigned using integer\""
      ]
     },
     "execution_count": 35,
     "metadata": {},
     "output_type": "execute_result"
    }
   ],
   "source": [
    "# 8. Why is eggs a valid variable name while 100 is invalid?\n",
    "A=\"the variable name can't be assigned using integer\"\n",
    "A"
   ]
  },
  {
   "cell_type": "code",
   "execution_count": 37,
   "id": "61d359cd",
   "metadata": {},
   "outputs": [
    {
     "data": {
      "text/plain": [
       "(1, 2.5, 'i want to become an ifs')"
      ]
     },
     "execution_count": 37,
     "metadata": {},
     "output_type": "execute_result"
    }
   ],
   "source": [
    "# 9. What three functions can be used to get the integer, floating-point number, or string version of a value?\n",
    "function = (int(1),float(2.5),str('i want to become an ifs'))\n",
    "function"
   ]
  },
  {
   "cell_type": "code",
   "execution_count": 38,
   "id": "aee91e56",
   "metadata": {},
   "outputs": [
    {
     "data": {
      "text/plain": [
       "'I have eaten 99 burritos.'"
      ]
     },
     "execution_count": 38,
     "metadata": {},
     "output_type": "execute_result"
    }
   ],
   "source": [
    "# 10. Why does this expression cause an error? How can you fix it?\n",
    "# 'I have eaten ' + 99 + ' burritos.'\n",
    "a = 'I have eaten ' + str(99) + ' burritos.'\n",
    "a"
   ]
  }
 ],
 "metadata": {
  "kernelspec": {
   "display_name": "Python 3",
   "language": "python",
   "name": "python3"
  },
  "language_info": {
   "codemirror_mode": {
    "name": "ipython",
    "version": 3
   },
   "file_extension": ".py",
   "mimetype": "text/x-python",
   "name": "python",
   "nbconvert_exporter": "python",
   "pygments_lexer": "ipython3",
   "version": "3.8.8"
  }
 },
 "nbformat": 4,
 "nbformat_minor": 5
}
